{
 "cells": [
  {
   "cell_type": "code",
   "execution_count": 3,
   "metadata": {},
   "outputs": [],
   "source": [
    "import numpy as np\n",
    "import pandas as pd\n",
    "from pgmpy.models import BayesianNetwork\n",
    "from pgmpy.estimators import MaximumLikelihoodEstimator\n",
    "from pgmpy.inference import VariableElimination"
   ]
  },
  {
   "cell_type": "code",
   "execution_count": 4,
   "metadata": {},
   "outputs": [],
   "source": [
    "# Read Cleveland Heart Disease data\n",
    "heartDisease = pd.read_csv('heart.csv')  # Load the dataset from 'heart.csv' file\n",
    "heartDisease = heartDisease.replace('?', np.nan)  # Replace '?' values with NaN"
   ]
  },
  {
   "cell_type": "code",
   "execution_count": 5,
   "metadata": {},
   "outputs": [
    {
     "name": "stdout",
     "output_type": "stream",
     "text": [
      "Few examples from the dataset are given below\n",
      "   age  gender  cp  trestbps  chol  fbs  restecg  thalach  exang  oldpeak   \n",
      "0   63       1   1       145   233    1        2      150      0      2.3  \\\n",
      "1   67       1   4       160   286    0        2      108      1      1.5   \n",
      "2   67       1   4       120   229    0        2      129      1      2.6   \n",
      "3   37       1   3       130   250    0        0      187      0      3.5   \n",
      "4   41       0   2       130   204    0        2      172      0      1.4   \n",
      "\n",
      "   slope ca thal  heartdisease  \n",
      "0      3  0    6             0  \n",
      "1      2  3    3             2  \n",
      "2      2  2    7             1  \n",
      "3      3  0    3             0  \n",
      "4      1  0    3             0  \n"
     ]
    }
   ],
   "source": [
    "# Display the data\n",
    "print('Few examples from the dataset are given below')\n",
    "print(heartDisease.head())  # Display the first few rows of the dataset"
   ]
  },
  {
   "cell_type": "code",
   "execution_count": 6,
   "metadata": {},
   "outputs": [],
   "source": [
    "# Model Bayesian Network\n",
    "model = BayesianNetwork([\n",
    "    ('age', 'trestbps'), ('age', 'fbs'), ('gender', 'trestbps'), ('exang', 'trestbps'),\n",
    "    ('trestbps', 'heartdisease'), ('fbs', 'heartdisease'), ('heartdisease', 'restecg'),\n",
    "    ('heartdisease', 'thalach'), ('heartdisease', 'chol')\n",
    "])  # Define the structure of the Bayesian Network\n"
   ]
  },
  {
   "cell_type": "code",
   "execution_count": 7,
   "metadata": {},
   "outputs": [
    {
     "name": "stdout",
     "output_type": "stream",
     "text": [
      "\n",
      "Learning CPD using Maximum likelihood estimators\n"
     ]
    }
   ],
   "source": [
    "# Learning CPDs using Maximum Likelihood Estimators\n",
    "print('\\nLearning CPD using Maximum likelihood estimators')\n",
    "model.fit(heartDisease, estimator=MaximumLikelihoodEstimator)  # Learn CPDs using Maximum Likelihood Estimator"
   ]
  },
  {
   "cell_type": "code",
   "execution_count": 8,
   "metadata": {},
   "outputs": [
    {
     "name": "stdout",
     "output_type": "stream",
     "text": [
      "\n",
      "Inferencing with Bayesian Network:\n"
     ]
    }
   ],
   "source": [
    "# Inferencing with Bayesian Network\n",
    "print('\\nInferencing with Bayesian Network:')\n",
    "HeartDisease_infer = VariableElimination(model)  # Create an inference engine using VariableElimination"
   ]
  },
  {
   "cell_type": "code",
   "execution_count": 9,
   "metadata": {},
   "outputs": [
    {
     "name": "stdout",
     "output_type": "stream",
     "text": [
      "\n",
      "1. Probability of HeartDisease given Age=40\n",
      "[0.37178925 0.4735095  0.06400225 0.06825606 0.02244294]\n"
     ]
    }
   ],
   "source": [
    "# Computing the Probability of HeartDisease given Age\n",
    "print('\\n1. Probability of HeartDisease given Age=40')  # Changed age to 40\n",
    "q = HeartDisease_infer.query(variables=['heartdisease'], evidence={'age': 40})  # Perform probabilistic inference\n",
    "print(q.values)  # Print the probability distribution"
   ]
  },
  {
   "cell_type": "code",
   "execution_count": 10,
   "metadata": {},
   "outputs": [
    {
     "name": "stdout",
     "output_type": "stream",
     "text": [
      "\n",
      "2. Probability of HeartDisease given cholesterol=180\n",
      "[1. 0. 0. 0. 0.]\n"
     ]
    }
   ],
   "source": [
    "# Computing the Probability of HeartDisease given cholesterol\n",
    "print('\\n2. Probability of HeartDisease given cholesterol=180')\n",
    "q = HeartDisease_infer.query(variables=['heartdisease'], evidence={'chol': 180})  # Perform probabilistic inference\n",
    "print(q.values)  # Print the probability distribution"
   ]
  },
  {
   "cell_type": "code",
   "execution_count": null,
   "metadata": {},
   "outputs": [],
   "source": []
  },
  {
   "cell_type": "code",
   "execution_count": null,
   "metadata": {},
   "outputs": [],
   "source": []
  }
 ],
 "metadata": {
  "kernelspec": {
   "display_name": "Python 3",
   "language": "python",
   "name": "python3"
  },
  "language_info": {
   "codemirror_mode": {
    "name": "ipython",
    "version": 3
   },
   "file_extension": ".py",
   "mimetype": "text/x-python",
   "name": "python",
   "nbconvert_exporter": "python",
   "pygments_lexer": "ipython3",
   "version": "3.11.0"
  },
  "orig_nbformat": 4
 },
 "nbformat": 4,
 "nbformat_minor": 2
}
